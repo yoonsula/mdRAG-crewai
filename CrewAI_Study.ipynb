{
 "cells": [
  {
   "cell_type": "markdown",
   "id": "cab28059-9e32-453f-9852-fe317a92575d",
   "metadata": {},
   "source": [
    "# Installation\n",
    "To install crewAI, you need to have Python >=3.10 and <=3.13 installed on your system:"
   ]
  },
  {
   "cell_type": "code",
   "execution_count": null,
   "id": "514f756f-ea1a-4e50-bc7d-804e98f5a6a0",
   "metadata": {
    "scrolled": true
   },
   "outputs": [],
   "source": [
    "# Install the mains crewAI package\n",
    "!pip install crewai\n",
    "\n",
    "# Install the main crewAI package and the tools package\n",
    "# that includes a series of helpful tools for your agents\n",
    "!pip install 'crewai[tools]'"
   ]
  },
  {
   "cell_type": "markdown",
   "id": "c7ab90cd-ecda-45e2-aa0a-31f9a215535f",
   "metadata": {},
   "source": [
    "# Getting Started\n",
    "https://docs.crewai.com/how-to/Creating-a-Crew-and-kick-it-off/\n",
    "## Step 1: Assemble Your Agents\n",
    "에이전트의 roles, backstories, 그리고 상세 모드와 메모리 사용 같은 향상된 기능을 정의. 이러한 요소들은 깊이를 더해주며, 팀 내에서의 작업 수행과 상호 작용을 안내함."
   ]
  },
  {
   "cell_type": "markdown",
   "id": "c43a9dd7-2b17-4311-b3ee-0d3a249fd6d1",
   "metadata": {},
   "source": [
    "- **Attributes**\n",
    "  \n",
    "    - ```role```: Agent의 역할 정의\n",
    "    - ```goal```: Agent의 목표 지정\n",
    "    - ```backstory```: Agent의 backstory 제공.\n",
    "    - ```llm```: Agent가 사용하는 LLM모델. default값으로 환경 변수 \"OPENAI_MODEL_NAME\"에서 정의된 GPT-4 모델을 사용\n",
    "    - ```function_calling_llm``` ***Optional***: ReAct(Reasoning+Action) crewAI 에이전트를 함수 호출 에이전트로 변환\n",
    "    - ```max_iter```: Agent가 작업을 실행하는 최대 반복 횟수. Default is 15.\n",
    "    - ```memory```: Agent가 실행 중에 정보를 보존할 수 있도록 함. Default is ```False```.\n",
    "    - ```max_rpm```: Agent가 요청하는 분당 최대 요청 수. Optional.\n",
    "    - ```verbose```: Agent 실행의 상세 로깅 활성화. Default is ```False```.\n",
    "    - ```allow_delegation```: Agent가 다른 Agent에게 작업을 위임할 수 있도록 함, default is ```True```.\n",
    "    - ```tools```: task실행을 위해 Agent에게 제공된 tool을 구체화 함. Optional.\n",
    "    - ```step_callback```: 각 단계 후에 실행할 callback 함수 제공. Optional.\n",
    "    - ```cache```: tool 사용에 대해 cache할 지 결정. Default is ```True```."
   ]
  },
  {
   "cell_type": "code",
   "execution_count": null,
   "id": "00e42d31-0f46-4bac-b843-5ffa28711b0f",
   "metadata": {},
   "outputs": [],
   "source": [
    "import os\n",
    "os.environ[\"SERPER_API_KEY\"] = \"***************************\"  # serper.dev API key\n",
    "os.environ[\"OPENAI_API_KEY\"] = \"sk-***************************\"\n",
    "os.environ[\"OPENAI_MODEL_NAME\"]=\"gpt-4o\""
   ]
  },
  {
   "cell_type": "code",
   "execution_count": null,
   "id": "9d2fac86-8b71-4cc1-be0f-12117eabc962",
   "metadata": {
    "scrolled": true
   },
   "outputs": [],
   "source": [
    "from crewai import Agent\n",
    "from crewai_tools import SerperDevTool\n",
    "search_tool = SerperDevTool()\n",
    "\n",
    "# Creating a senior researcher agent with memory and verbose mode\n",
    "researcher = Agent(\n",
    "    role='Senior Researcher',\n",
    "    goal='Uncover groundbreaking technologies in {topic}',\n",
    "    verbose=True,\n",
    "    memory=True,\n",
    "    backstory=(\n",
    "    \"Driven by curiosity, you're at the forefront of\"\n",
    "    \"innovation, eager to explore and share knowledge that could change\"\n",
    "    \"the world.\"\n",
    "    ),\n",
    "    tools=[search_tool],\n",
    "    allow_delegation=True\n",
    ")\n",
    "\n",
    "# Creating a writer agent with custom tools and delegation capability\n",
    "writer = Agent(\n",
    "  role='Writer',\n",
    "  goal='Narrate compelling tech stories about {topic}',\n",
    "  verbose=True,\n",
    "  memory=True,\n",
    "  backstory=(\n",
    "    \"With a flair for simplifying complex topics, you craft\"\n",
    "    \"engaging narratives that captivate and educate, bringing new\"\n",
    "    \"discoveries to light in an accessible manner.\"\n",
    "  ),\n",
    "  tools=[search_tool],\n",
    "  allow_delegation=False\n",
    ")"
   ]
  },
  {
   "cell_type": "markdown",
   "id": "e22dd5ff-0314-4947-8220-283451c3e275",
   "metadata": {},
   "source": [
    "## Step 2: Define the Tasks\n",
    "Agent의 구체적인 목표 설정. 비동기 실행, output customization 등의 새로 나온 기능을 포함하여 task는 agent의 역할에 대한 target 접근을 보장함"
   ]
  },
  {
   "cell_type": "code",
   "execution_count": null,
   "id": "25d34620-06fc-4d7b-9330-a650a2ebfd16",
   "metadata": {},
   "outputs": [],
   "source": [
    "from crewai import Task\n",
    "\n",
    "# Research task\n",
    "research_task = Task(\n",
    "  description=(\n",
    "    \"Identify the next big trend in {topic}.\"\n",
    "    \"Focus on identifying pros and cons and the overall narrative.\"\n",
    "    \"Your final report should clearly articulate the key points,\"\n",
    "    \"its market opportunities, and potential risks.\"\n",
    "  ),\n",
    "  expected_output='A comprehensive 3 paragraphs long report on the latest AI trends.',\n",
    "  tools=[search_tool],\n",
    "  agent=researcher,\n",
    ")\n",
    "\n",
    "# Writing task with language model configuration\n",
    "write_task = Task(\n",
    "  description=(\n",
    "    \"Compose an insightful article on {topic}.\"\n",
    "    \"Focus on the latest trends and how it's impacting the industry.\"\n",
    "    \"This article should be easy to understand, engaging, and positive.\"\n",
    "  ),\n",
    "  expected_output='A 4 paragraph article on {topic} advancements formatted as markdown.',\n",
    "  tools=[search_tool],\n",
    "  agent=writer,\n",
    "  async_execution=False,\n",
    "  output_file='new-blog-post.md'  # Example of output customization\n",
    ")"
   ]
  },
  {
   "cell_type": "markdown",
   "id": "25959171-69fb-45ef-b169-ce233bc9414c",
   "metadata": {},
   "source": [
    "## Step 3: Form the Crew\n",
    "Agent들을 하나의 크루로 결합하여 작업을 수행할 워크플로우 프로세스를 설정함. 옵션과 성능 최적화를 위한 추가 설정을 포함하여 향상된 상호 작용을 도울 수 있음."
   ]
  },
  {
   "cell_type": "code",
   "execution_count": null,
   "id": "3868e892-ee0d-409f-a393-00b587387d75",
   "metadata": {},
   "outputs": [],
   "source": [
    "from crewai import Crew, Process\n",
    "\n",
    "# Forming the tech-focused crew with some enhanced configurations\n",
    "crew = Crew(\n",
    "  agents=[researcher, writer],\n",
    "  tasks=[research_task, write_task],\n",
    "  process=Process.sequential,  # Optional: Sequential task execution is default\n",
    "  memory=True,\n",
    "  cache=True,\n",
    "  max_rpm=100,\n",
    "  share_crew=True\n",
    ")"
   ]
  },
  {
   "cell_type": "markdown",
   "id": "dab3ed55-47b9-4c5a-83dd-e87e3a6ef41a",
   "metadata": {},
   "source": [
    "## Step 4: Kick It Off\n",
    "Crew() 함수 내에 사용 목적에 맞는 Agent와 Task를 설정. Agent들은 서로 협업하여 사용자가 지정한 task에 맞게 서로 보간되어 최적의 결과를 답변할 것임."
   ]
  },
  {
   "cell_type": "code",
   "execution_count": null,
   "id": "12ff70ee-16f7-4a2d-b7b6-08af590d6ec1",
   "metadata": {
    "scrolled": true
   },
   "outputs": [],
   "source": [
    "# Starting the task execution process with enhanced feedback\n",
    "result = crew.kickoff(inputs={'topic': 'AI in healthcare'})\n",
    "print(result)"
   ]
  },
  {
   "cell_type": "markdown",
   "id": "46cdb5bc-1961-483f-9310-5aaf45793083",
   "metadata": {},
   "source": [
    "<hr>"
   ]
  },
  {
   "cell_type": "markdown",
   "id": "7d111ba6-d0bd-41a7-85f8-3dbfd2f081f8",
   "metadata": {},
   "source": [
    "# markdown validator"
   ]
  },
  {
   "cell_type": "code",
   "execution_count": null,
   "id": "b17d7642-cdd9-4403-a346-9aabcae6b27f",
   "metadata": {},
   "outputs": [],
   "source": [
    "import warnings\n",
    "warnings.filterwarnings('ignore')"
   ]
  },
  {
   "cell_type": "code",
   "execution_count": null,
   "id": "10b3e5ec-2c8f-4005-8988-fd8d0281f07a",
   "metadata": {},
   "outputs": [],
   "source": [
    "import os\n",
    "from getpass import getpass\n",
    "from crewai import Agent, Task, Crew, Process\n",
    "from langchain_openai import ChatOpenAI\n",
    "from textwrap import dedent\n",
    "\n",
    "os.environ[\"OPENAI_API_KEY\"] = 'sk-*******************************'"
   ]
  },
  {
   "cell_type": "markdown",
   "id": "657adb9b-faa3-469c-a48a-f7e521c84ebc",
   "metadata": {},
   "source": [
    "## 마크다운 validator 설치\n",
    "https://github.com/joaomdmoura/crewAI-examples/tree/main/markdown_validator#introduction\n",
    "\n",
    "1. .env 파일 생성 후 환경변수 설정\n",
    "   ```shell\n",
    "   # Using OpenAI's API\n",
    "   OPENAI_API_KEY=\"sk-****************************************\"\n",
    "   MODEL_NAME=\"gpt-4o\"\n",
    "   ```\n",
    "2. Install Dependencies\n",
    "   ```shell\n",
    "   poetry install --no-root\n",
    "   ```"
   ]
  },
  {
   "cell_type": "markdown",
   "id": "3c8f5de9-f935-45df-baa3-561ce67b277c",
   "metadata": {},
   "source": [
    "## syntax 검사 agent와 마크다운 작성자 agent 배치"
   ]
  },
  {
   "cell_type": "code",
   "execution_count": null,
   "id": "0dc9193a-ce3d-4ddc-b320-a1f55df2f4e7",
   "metadata": {
    "scrolled": true
   },
   "outputs": [],
   "source": [
    "from langchain_community.chat_models import ChatOpenAI\n",
    "from crewai import Agent\n",
    "from markdown_validator.MarkdownTools import markdown_validation_tool\n",
    "\n",
    "# 마크다운 문법 검사 agent\n",
    "review_agent = Agent(\n",
    "    role=dedent((\n",
    "        \"\"\"\n",
    "        'Requirements Manager'\n",
    "        \"\"\")), # Think of this as the job title\n",
    "    backstory=dedent((\n",
    "        \"\"\"\n",
    "        You are an expert synthetic biology analyst and software QA specialist. You provide high quality, thorough, insightful and actionable feedback via detailed list of changes and actionable tasks.\n",
    "        \"\"\")), # This is the backstory of the agent, this helps the agent to understand the context of the task\n",
    "    goal=dedent((\n",
    "        \"\"\"\n",
    "        Provide a detailed list of the markdown linting results. Give a summary with actionable tasks to address the validation results. Write your response as if you were handing it to a developer to fix the issues. DO NOT provide examples of how to fix the issues or recommend other tools to use.\n",
    "        \"\"\")), # This is the goal that the agent is trying to achieve\n",
    "    tools=[markdown_validation_tool],\n",
    "    allow_delegation=False,\n",
    "    # verbose=True,\n",
    "    memory=True,\n",
    "    # ↑ Whether the agent execution should be in verbose mode\n",
    "    max_iter=3,\n",
    "    # ↑ maximum number of iterations the agent can perform before being forced to give its best answer (generate the output)\n",
    "    max_rpm=100, # This is the maximum number of requests per minute that the agent can make to the language model\n",
    "    llm=ChatOpenAI(model_name=\"gpt-4o\", top_p=0.8)\n",
    ")\n",
    "\n",
    "# 마크다운 작성자\n",
    "writer_agent = Agent(\n",
    "    role=dedent((\n",
    "        \"\"\"\n",
    "        Writer\n",
    "        \"\"\")), # Think of this as the job title\n",
    "    backstory=dedent((\n",
    "        \"\"\"\n",
    "        You share the markdown file received as input with the agent that recognizes the error to correct it.\n",
    "        \"\"\")), # This is the backstory of the agent, this helps the agent to understand the context of the task\n",
    "    goal=dedent((\n",
    "        \"\"\"\n",
    "        Resume grammatical errors in the full markdown doc form. Return full content, not just content with grammatical errors. DO NOT provide examples of how to fix the issues or recommend other tools to use.\n",
    "        \"\"\")), # This is the goal that the agent is trying to achieve\n",
    "    \n",
    "    allow_delegation=False,\n",
    "    # verbose=True,\n",
    "    # ↑ Whether the agent execution should be in verbose mode\n",
    "    max_iter=3,\n",
    "    # ↑ maximum number of iterations the agent can perform before being forced to give its best answer (generate the output)\n",
    "    max_rpm=100, # This is the maximum number of requests per minute that the agent can make to the language model\n",
    "    llm=ChatOpenAI(model_name=\"gpt-4o\", temperature=0.8)\n",
    ")"
   ]
  },
  {
   "cell_type": "code",
   "execution_count": null,
   "id": "b8bb4c8b-8d70-4a55-a76d-8d37bf758f3b",
   "metadata": {},
   "outputs": [],
   "source": [
    "!pip install StringIO"
   ]
  },
  {
   "cell_type": "markdown",
   "id": "a6bdf8c2-a213-49c1-b4a8-b2abbafaf025",
   "metadata": {},
   "source": [
    "## 마크다운 파일 불러오기"
   ]
  },
  {
   "cell_type": "code",
   "execution_count": null,
   "id": "8508d553-334b-4ff5-8234-69c1ca12d2f5",
   "metadata": {},
   "outputs": [],
   "source": [
    "import markdown\n",
    "\n",
    "with open('markdown_validator/protein2.md', 'r', encoding='utf-8') as file:\n",
    "    markdown_content = file.read()"
   ]
  },
  {
   "cell_type": "markdown",
   "id": "59577885-110b-45cd-b222-0a935149bfcf",
   "metadata": {},
   "source": [
    "## 각 agent들의 task 부여"
   ]
  },
  {
   "cell_type": "code",
   "execution_count": null,
   "id": "47387d4c-62e5-4769-bea3-dd042b97af71",
   "metadata": {
    "scrolled": true
   },
   "outputs": [],
   "source": [
    "import datetime\n",
    "from crewai import Task\n",
    "\n",
    "# Define Tasks Using Crew Tools\n",
    "syntax_review_task = Task(description=f'''\n",
    "        Use the markdown_validation_tool to review the file(s) at this path: \"{\"markdown_validator/protein2.md\"}\"\n",
    "        \n",
    "        Be sure to pass only the file path to the markdown_validation_tool.\n",
    "        Use the following format to call the markdown_validation_tool:\n",
    "        Do I need to use a tool? Yes\n",
    "        Action: markdown_validation_tool\n",
    "        Action Input: \"{\"markdown_validator/protein2.md\"}\"\n",
    "\n",
    "        Get the validation results from the tool \n",
    "        and then summarize it into a list of changes\n",
    "        the developer should make to the document.\n",
    "        DO NOT recommend ways to update the document.\n",
    "        DO NOT change any of the content of the document or\n",
    "        add content to it. It is critical to your task to\n",
    "        only respond with a list of changes.\n",
    "        \n",
    "        If you already know the answer or if you do not need \n",
    "        to use a tool, return it as your Final Answer.''',\n",
    "        expected_output=\"\"\"\n",
    "        Line numbers and content with grammatical errors.\n",
    "        \"\"\",\n",
    "        agent=review_agent)\n",
    "\n",
    "writer_task = Task(description=dedent((f\"\"\"\n",
    "        Please correct the syntax issues found in \"{markdown_content}\" and provide them\n",
    "        \"\"\")),\n",
    "        expected_output=dedent((\"\"\"\n",
    "            Markdown file that corrects only grammatical errors without modifying the content.\n",
    "            \"\"\")),\n",
    "        context=[syntax_review_task],\n",
    "        # ↑ specify which task's output should be used as context for subsequent tasks\n",
    "    max_rpm=100,\n",
    "        output_file=f'result_{datetime.datetime.now().strftime(\"%Y%m%d_%H%M%S\")}.md')"
   ]
  },
  {
   "cell_type": "markdown",
   "id": "e1f5451e-d337-44b5-9ce2-96792b6031ec",
   "metadata": {},
   "source": [
    "## 마크다운 검사를 위한 Crew 생성"
   ]
  },
  {
   "cell_type": "code",
   "execution_count": null,
   "id": "4ea98fdf-6e3b-47e2-870a-6ca50d9f9e1f",
   "metadata": {
    "scrolled": true
   },
   "outputs": [],
   "source": [
    "from crewai import Crew, Process\n",
    "\n",
    "def main():\n",
    "    # Instantiate your crew with a sequential process\n",
    "    md_crew = Crew(\n",
    "        agents=[review_agent, writer_agent],\n",
    "        tasks=[syntax_review_task, writer_task],\n",
    "        # verbose=2,  # You can set it to 1 or 2 to different logging levels\n",
    "        # ↑ indicates the verbosity level for logging during execution.\n",
    "        process=Process.sequential\n",
    "        # ↑ the process flow that the crew will follow (e.g., sequential, hierarchical).\n",
    "    )\n",
    "\n",
    "    result = md_crew.kickoff()\n",
    "    print(\"\\n\\n########################\")\n",
    "    print(\"## Here is your markdown crew run result:\")\n",
    "    print(\"########################\\n\")\n",
    "    print(result)\n",
    "\n",
    "if __name__ == \"__main__\":\n",
    "  result = main()"
   ]
  },
  {
   "cell_type": "markdown",
   "id": "987065ec-200e-45a6-8d3f-d407f7b5d916",
   "metadata": {},
   "source": [
    "<hr>"
   ]
  },
  {
   "cell_type": "markdown",
   "id": "1293d406-95b7-49d1-8b18-1534f193b6ca",
   "metadata": {},
   "source": [
    "# 마크다운 RAG 및 생성"
   ]
  },
  {
   "cell_type": "code",
   "execution_count": null,
   "id": "9ac1e66c-1fa4-464f-9572-88f74242a238",
   "metadata": {},
   "outputs": [],
   "source": [
    "from crewai import Agent, Task\n",
    "from crewai_tools import MDXSearchTool\n",
    "\n",
    "# Initialize the tool with a specific MDX file path for an exclusive search within that document\n",
    "md_tool = MDXSearchTool()\n",
    "# mdx=['markdown_validator/020_multi_module_to_plasmid.md', 'markdown_validator/protein2.md']\n",
    "\n",
    "md_collector = Agent(\n",
    "    role='a Ph.D. in synthetic biology',\n",
    "    goal='Design a synthetic biology experiment based on a given {input1}, {input2} and understand the markdown structure',\n",
    "    tools=[md_tool],\n",
    "    verbose=True,\n",
    "    memory=True,\n",
    "    backstory=(\n",
    "        \"You understand the overall experimental design stage of synthetic biology.\"\n",
    "        \"You understand the concept of each task, workflow, and unit process and know how to see the markdown structure according to this criterion.\"\n",
    "        \"The experiment name is header2 (##), the unit process in the experiment is header3 (####), and the equipment, reagents, methods, results, and consumables required to construct the unit process are composed of header4 (#####).\"\n",
    "    ),\n",
    "    max_rpm=100,\n",
    "    allow_delegation=False\n",
    ")\n",
    "fetch_md_task = Task(\n",
    "    description=(\n",
    "        \"Bring the synthetic biology experiment stage related to the {input1}, {input2}\"\n",
    "        \"Understand the markdown structure according to each step and notice that task, workflow, and unit process are divided according to the header part of this markdown\"\n",
    "    ),\n",
    "    expected_output='Raw data ready for processing.',\n",
    "    agent=md_collector\n",
    ")"
   ]
  },
  {
   "cell_type": "code",
   "execution_count": null,
   "id": "301ce39f-d12b-457c-86ba-4766f0c9d720",
   "metadata": {},
   "outputs": [],
   "source": [
    "import datetime\n",
    "md_writer = Agent(\n",
    "    role='a synthetic biology experimental designer',\n",
    "    goal='Transforms the information and structure of raw experimental data into a structured format for the {input3} experiment.',\n",
    "    backstory=(\n",
    "        \"Create an experimental design in a markdown format\"\n",
    "        \"Your work ensures that the information is not only accurate but also pleasing to read.\"\n",
    "        \"The experiment name is header2 (##), the unit process in the experiment is header3 (####), and the equipment, reagents, methods, results, and consumables required to construct the unit process are composed of header4 (####).\"\n",
    "    ),\n",
    "    max_rpm=100,\n",
    "    allow_delegation=False\n",
    ")\n",
    "\n",
    "md_writer_task = Task(\n",
    "    description=(\n",
    "        \"Obtain the structure and information of the raw data from md_collector and configure {input3} in a structured markdown format.\"\n",
    "        \"Design a new synthetic biology experiment by identifying the structure of each header and content\"\n",
    "    ),\n",
    "    expected_output='Organized content ready for Markdown formatting.',\n",
    "    agent=md_writer,\n",
    "    output_file=f'result_{datetime.datetime.now().strftime(\"%Y%m%d_%H%M%S\")}.md'\n",
    ")"
   ]
  },
  {
   "cell_type": "code",
   "execution_count": null,
   "id": "db68d7b4-8381-40ab-95ee-901b8cf4ed5e",
   "metadata": {
    "scrolled": true
   },
   "outputs": [],
   "source": [
    "from crewai import Crew, Process \n",
    "\n",
    "# 정의된 에이전트 및 작업을 사용하여 크루 초기화\n",
    "md_crew = Crew( \n",
    "    name= 'markdown_writer' , \n",
    "    agents=[md_collector, md_writer], \n",
    "    tasks=[fetch_md_task, md_writer_task], \n",
    "    process= Process.sequential,   # 작업이 추가된 순서대로 실행되는지 확인합니다.\n",
    "    verbose= True , \n",
    "    memory= True , \n",
    "    cache= False , \n",
    "    max_rpm= 100\n",
    ") \n",
    "if __name__ == '__main__' : \n",
    "    result = md_crew.kickoff(inputs={\n",
    "        'input1' : 'markdown_validator/020_multi_module_to_plasmid.md',\n",
    "        'input2' : 'markdown_validator/protein2.md',\n",
    "        'input3' : 'MPH Single Directly Mutation'}) \n",
    "    print ( \"Crew Execution Result:\" , result)"
   ]
  }
 ],
 "metadata": {
  "kernelspec": {
   "display_name": "Python 3 (ipykernel)",
   "language": "python",
   "name": "python3"
  },
  "language_info": {
   "codemirror_mode": {
    "name": "ipython",
    "version": 3
   },
   "file_extension": ".py",
   "mimetype": "text/x-python",
   "name": "python",
   "nbconvert_exporter": "python",
   "pygments_lexer": "ipython3",
   "version": "3.10.12"
  }
 },
 "nbformat": 4,
 "nbformat_minor": 5
}
